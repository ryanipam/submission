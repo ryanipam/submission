{
 "cells": [
  {
   "cell_type": "code",
   "execution_count": 1,
   "metadata": {
    "scrolled": true
   },
   "outputs": [
    {
     "name": "stdout",
     "output_type": "stream",
     "text": [
      "3\n",
      "1 2 4\n",
      "1\n",
      "1\n",
      "3 2 1 1\n"
     ]
    }
   ],
   "source": [
    "# load the module sys\n",
    "import sys\n",
    "\n",
    "# for validating input number in first assignment (length array)\n",
    "try:\n",
    "    input_length_array = int(input())\n",
    "         \n",
    "except ValueError:\n",
    "    print(\"Input valid number\")\n",
    "    sys.exit()                        #force terminate if not valid\n",
    "    \n",
    "\n",
    "#for validating input number which representing element array    \n",
    "try:\n",
    "    input_element_array = input()\n",
    "    array = [int(i) for i in input_element_array.split()]   #save element input to array[]\n",
    "    if len(array) != input_length_array:                    #chek input_length and number of element if not same\n",
    "        print(\"declaration length and element array doesnt equals\")\n",
    "        sys.exit()\n",
    "        \n",
    "except ValueError:\n",
    "    print(\"Input valid number\")\n",
    "    sys.exit()\n",
    "    \n",
    "\n",
    "#validating input number for rotating the box    \n",
    "try:\n",
    "    input_rotation = int(input())\n",
    "         \n",
    "except ValueError:\n",
    "    print(\"Input valid number\")\n",
    "    sys.exit()\n",
    "\n",
    "# creating new variable contain length array if box rotated 90 degree\n",
    "new_data = [0] * max(array)\n",
    "\n",
    "# inserting the value to array with auto increment if the box rotated\n",
    "for x in range(len(array)):\n",
    "    for y in range(array[x]):\n",
    "        new_data[y] += 1\n",
    "\n",
    "# chek input rotation if a multiple of 2, it will return array and sorting form the higher number\n",
    "if input_rotation % 2 == 0:\n",
    "    array.sort(reverse=True)\n",
    "    print(' '.join(str(n) for n in array))\n",
    "    \n",
    "# case if input rotation is odd, it will return new_data\n",
    "elif input_rotation % 1 == 0:\n",
    "    print(' '.join(str(n) for n in new_data))\n",
    "\n",
    "else:\n",
    "    print(\"invalid rotation\")\n"
   ]
  },
  {
   "cell_type": "code",
   "execution_count": null,
   "metadata": {},
   "outputs": [],
   "source": []
  }
 ],
 "metadata": {
  "kernelspec": {
   "display_name": "Python 3",
   "language": "python",
   "name": "python3"
  },
  "language_info": {
   "codemirror_mode": {
    "name": "ipython",
    "version": 3
   },
   "file_extension": ".py",
   "mimetype": "text/x-python",
   "name": "python",
   "nbconvert_exporter": "python",
   "pygments_lexer": "ipython3",
   "version": "3.7.3"
  }
 },
 "nbformat": 4,
 "nbformat_minor": 2
}
